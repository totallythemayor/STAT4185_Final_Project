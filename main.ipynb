{
 "cells": [
  {
   "cell_type": "code",
   "execution_count": 90,
   "metadata": {},
   "outputs": [],
   "source": [
    "import pandas as pd\n",
    "import numpy as np\n",
    "from sklearn.model_selection import train_test_split\n",
    "from sklearn.metrics import mean_squared_error, r2_score, mean_absolute_error\n",
    "from sklearn.linear_model import LinearRegression\n",
    "from sklearn.tree import DecisionTreeRegressor\n",
    "from sklearn.ensemble import RandomForestRegressor\n",
    "from sklearn.preprocessing import MinMaxScaler\n",
    "from sklearn.compose import ColumnTransformer\n"
   ]
  },
  {
   "cell_type": "code",
   "execution_count": 45,
   "metadata": {},
   "outputs": [],
   "source": [
    "df = pd.read_csv('climate_change_data.csv')"
   ]
  },
  {
   "cell_type": "code",
   "execution_count": 46,
   "metadata": {},
   "outputs": [
    {
     "data": {
      "text/html": [
       "<div>\n",
       "<style scoped>\n",
       "    .dataframe tbody tr th:only-of-type {\n",
       "        vertical-align: middle;\n",
       "    }\n",
       "\n",
       "    .dataframe tbody tr th {\n",
       "        vertical-align: top;\n",
       "    }\n",
       "\n",
       "    .dataframe thead th {\n",
       "        text-align: right;\n",
       "    }\n",
       "</style>\n",
       "<table border=\"1\" class=\"dataframe\">\n",
       "  <thead>\n",
       "    <tr style=\"text-align: right;\">\n",
       "      <th></th>\n",
       "      <th>Date</th>\n",
       "      <th>Location</th>\n",
       "      <th>Country</th>\n",
       "      <th>Temperature</th>\n",
       "      <th>CO2 Emissions</th>\n",
       "      <th>Sea Level Rise</th>\n",
       "      <th>Precipitation</th>\n",
       "      <th>Humidity</th>\n",
       "      <th>Wind Speed</th>\n",
       "    </tr>\n",
       "  </thead>\n",
       "  <tbody>\n",
       "    <tr>\n",
       "      <th>0</th>\n",
       "      <td>2000-01-01 00:00:00.000000000</td>\n",
       "      <td>New Williamtown</td>\n",
       "      <td>Latvia</td>\n",
       "      <td>10.688986</td>\n",
       "      <td>403.118903</td>\n",
       "      <td>0.717506</td>\n",
       "      <td>13.835237</td>\n",
       "      <td>23.631256</td>\n",
       "      <td>18.492026</td>\n",
       "    </tr>\n",
       "    <tr>\n",
       "      <th>1</th>\n",
       "      <td>2000-01-01 20:09:43.258325832</td>\n",
       "      <td>North Rachel</td>\n",
       "      <td>South Africa</td>\n",
       "      <td>13.814430</td>\n",
       "      <td>396.663499</td>\n",
       "      <td>1.205715</td>\n",
       "      <td>40.974084</td>\n",
       "      <td>43.982946</td>\n",
       "      <td>34.249300</td>\n",
       "    </tr>\n",
       "    <tr>\n",
       "      <th>2</th>\n",
       "      <td>2000-01-02 16:19:26.516651665</td>\n",
       "      <td>West Williamland</td>\n",
       "      <td>French Guiana</td>\n",
       "      <td>27.323718</td>\n",
       "      <td>451.553155</td>\n",
       "      <td>-0.160783</td>\n",
       "      <td>42.697931</td>\n",
       "      <td>96.652600</td>\n",
       "      <td>34.124261</td>\n",
       "    </tr>\n",
       "    <tr>\n",
       "      <th>3</th>\n",
       "      <td>2000-01-03 12:29:09.774977497</td>\n",
       "      <td>South David</td>\n",
       "      <td>Vietnam</td>\n",
       "      <td>12.309581</td>\n",
       "      <td>422.404983</td>\n",
       "      <td>-0.475931</td>\n",
       "      <td>5.193341</td>\n",
       "      <td>47.467938</td>\n",
       "      <td>8.554563</td>\n",
       "    </tr>\n",
       "    <tr>\n",
       "      <th>4</th>\n",
       "      <td>2000-01-04 08:38:53.033303330</td>\n",
       "      <td>New Scottburgh</td>\n",
       "      <td>Moldova</td>\n",
       "      <td>13.210885</td>\n",
       "      <td>410.472999</td>\n",
       "      <td>1.135757</td>\n",
       "      <td>78.695280</td>\n",
       "      <td>61.789672</td>\n",
       "      <td>8.001164</td>\n",
       "    </tr>\n",
       "  </tbody>\n",
       "</table>\n",
       "</div>"
      ],
      "text/plain": [
       "                            Date          Location        Country  \\\n",
       "0  2000-01-01 00:00:00.000000000   New Williamtown         Latvia   \n",
       "1  2000-01-01 20:09:43.258325832      North Rachel   South Africa   \n",
       "2  2000-01-02 16:19:26.516651665  West Williamland  French Guiana   \n",
       "3  2000-01-03 12:29:09.774977497       South David        Vietnam   \n",
       "4  2000-01-04 08:38:53.033303330    New Scottburgh        Moldova   \n",
       "\n",
       "   Temperature  CO2 Emissions  Sea Level Rise  Precipitation   Humidity  \\\n",
       "0    10.688986     403.118903        0.717506      13.835237  23.631256   \n",
       "1    13.814430     396.663499        1.205715      40.974084  43.982946   \n",
       "2    27.323718     451.553155       -0.160783      42.697931  96.652600   \n",
       "3    12.309581     422.404983       -0.475931       5.193341  47.467938   \n",
       "4    13.210885     410.472999        1.135757      78.695280  61.789672   \n",
       "\n",
       "   Wind Speed  \n",
       "0   18.492026  \n",
       "1   34.249300  \n",
       "2   34.124261  \n",
       "3    8.554563  \n",
       "4    8.001164  "
      ]
     },
     "execution_count": 46,
     "metadata": {},
     "output_type": "execute_result"
    }
   ],
   "source": [
    "df.head()"
   ]
  },
  {
   "cell_type": "code",
   "execution_count": 47,
   "metadata": {},
   "outputs": [],
   "source": [
    "df = df.drop(columns=['Date', 'Location', 'Country'])"
   ]
  },
  {
   "cell_type": "code",
   "execution_count": 48,
   "metadata": {},
   "outputs": [
    {
     "data": {
      "text/html": [
       "<div>\n",
       "<style scoped>\n",
       "    .dataframe tbody tr th:only-of-type {\n",
       "        vertical-align: middle;\n",
       "    }\n",
       "\n",
       "    .dataframe tbody tr th {\n",
       "        vertical-align: top;\n",
       "    }\n",
       "\n",
       "    .dataframe thead th {\n",
       "        text-align: right;\n",
       "    }\n",
       "</style>\n",
       "<table border=\"1\" class=\"dataframe\">\n",
       "  <thead>\n",
       "    <tr style=\"text-align: right;\">\n",
       "      <th></th>\n",
       "      <th>Temperature</th>\n",
       "      <th>CO2 Emissions</th>\n",
       "      <th>Sea Level Rise</th>\n",
       "      <th>Precipitation</th>\n",
       "      <th>Humidity</th>\n",
       "      <th>Wind Speed</th>\n",
       "    </tr>\n",
       "  </thead>\n",
       "  <tbody>\n",
       "    <tr>\n",
       "      <th>0</th>\n",
       "      <td>10.688986</td>\n",
       "      <td>403.118903</td>\n",
       "      <td>0.717506</td>\n",
       "      <td>13.835237</td>\n",
       "      <td>23.631256</td>\n",
       "      <td>18.492026</td>\n",
       "    </tr>\n",
       "    <tr>\n",
       "      <th>1</th>\n",
       "      <td>13.814430</td>\n",
       "      <td>396.663499</td>\n",
       "      <td>1.205715</td>\n",
       "      <td>40.974084</td>\n",
       "      <td>43.982946</td>\n",
       "      <td>34.249300</td>\n",
       "    </tr>\n",
       "    <tr>\n",
       "      <th>2</th>\n",
       "      <td>27.323718</td>\n",
       "      <td>451.553155</td>\n",
       "      <td>-0.160783</td>\n",
       "      <td>42.697931</td>\n",
       "      <td>96.652600</td>\n",
       "      <td>34.124261</td>\n",
       "    </tr>\n",
       "    <tr>\n",
       "      <th>3</th>\n",
       "      <td>12.309581</td>\n",
       "      <td>422.404983</td>\n",
       "      <td>-0.475931</td>\n",
       "      <td>5.193341</td>\n",
       "      <td>47.467938</td>\n",
       "      <td>8.554563</td>\n",
       "    </tr>\n",
       "    <tr>\n",
       "      <th>4</th>\n",
       "      <td>13.210885</td>\n",
       "      <td>410.472999</td>\n",
       "      <td>1.135757</td>\n",
       "      <td>78.695280</td>\n",
       "      <td>61.789672</td>\n",
       "      <td>8.001164</td>\n",
       "    </tr>\n",
       "  </tbody>\n",
       "</table>\n",
       "</div>"
      ],
      "text/plain": [
       "   Temperature  CO2 Emissions  Sea Level Rise  Precipitation   Humidity  \\\n",
       "0    10.688986     403.118903        0.717506      13.835237  23.631256   \n",
       "1    13.814430     396.663499        1.205715      40.974084  43.982946   \n",
       "2    27.323718     451.553155       -0.160783      42.697931  96.652600   \n",
       "3    12.309581     422.404983       -0.475931       5.193341  47.467938   \n",
       "4    13.210885     410.472999        1.135757      78.695280  61.789672   \n",
       "\n",
       "   Wind Speed  \n",
       "0   18.492026  \n",
       "1   34.249300  \n",
       "2   34.124261  \n",
       "3    8.554563  \n",
       "4    8.001164  "
      ]
     },
     "execution_count": 48,
     "metadata": {},
     "output_type": "execute_result"
    }
   ],
   "source": [
    "df.head()"
   ]
  },
  {
   "cell_type": "code",
   "execution_count": 49,
   "metadata": {},
   "outputs": [],
   "source": [
    "def convert_to_f(input):\n",
    "    return (input * 9/5) + 32\n",
    "\n",
    "df['Temperature'] = df['Temperature'].apply(convert_to_f)"
   ]
  },
  {
   "cell_type": "code",
   "execution_count": 50,
   "metadata": {},
   "outputs": [],
   "source": [
    "def convert_to_decimal(input):\n",
    "    return input / 100\n",
    "\n",
    "df['Humidity'] = df['Humidity'].apply(convert_to_decimal)"
   ]
  },
  {
   "cell_type": "code",
   "execution_count": 51,
   "metadata": {},
   "outputs": [
    {
     "name": "stdout",
     "output_type": "stream",
     "text": [
      "Median: 58.96604433552025\n",
      "Mean: 58.88486080153422\n",
      "Standard Deviation: 9.055108528560286\n"
     ]
    }
   ],
   "source": [
    "print(f'Median: {df[\"Temperature\"].median()}')\n",
    "print(f'Mean: {df[\"Temperature\"].mean()}')\n",
    "print(f'Standard Deviation: {df[\"Temperature\"].std()}')"
   ]
  },
  {
   "cell_type": "code",
   "execution_count": 52,
   "metadata": {},
   "outputs": [
    {
     "name": "stdout",
     "output_type": "stream",
     "text": [
      "Percent of values 1 standard deviation above the mean: 34.37%\n",
      "Percent of values 1 standard deviation below the mean: 33.83%\n"
     ]
    },
    {
     "name": "stderr",
     "output_type": "stream",
     "text": [
      "/var/folders/ky/73d3z09d6f595ffjdrf1_lxw0000gn/T/ipykernel_2671/1081316318.py:2: UserWarning: Boolean Series key will be reindexed to match DataFrame index.\n",
      "  print(f'Percent of values 1 standard deviation above the mean: {df[df[\"Temperature\"] > df[\"Temperature\"].mean()][df[\"Temperature\"] <= (df[\"Temperature\"].mean() + df[\"Temperature\"].std())].shape[0] / df.shape[0] * 100}%')\n",
      "/var/folders/ky/73d3z09d6f595ffjdrf1_lxw0000gn/T/ipykernel_2671/1081316318.py:3: UserWarning: Boolean Series key will be reindexed to match DataFrame index.\n",
      "  print(f'Percent of values 1 standard deviation below the mean: {df[df[\"Temperature\"] < df[\"Temperature\"].mean()][df[\"Temperature\"] >= (df[\"Temperature\"].mean() - df[\"Temperature\"].std())].shape[0] / df.shape[0] * 100}%')\n"
     ]
    }
   ],
   "source": [
    "# The distribution of temperatures is fairly normal.\n",
    "print(f'Percent of values 1 standard deviation above the mean: {df[df[\"Temperature\"] > df[\"Temperature\"].mean()][df[\"Temperature\"] <= (df[\"Temperature\"].mean() + df[\"Temperature\"].std())].shape[0] / df.shape[0] * 100}%')\n",
    "print(f'Percent of values 1 standard deviation below the mean: {df[df[\"Temperature\"] < df[\"Temperature\"].mean()][df[\"Temperature\"] >= (df[\"Temperature\"].mean() - df[\"Temperature\"].std())].shape[0] / df.shape[0] * 100}%')"
   ]
  },
  {
   "cell_type": "code",
   "execution_count": 53,
   "metadata": {},
   "outputs": [
    {
     "name": "stdout",
     "output_type": "stream",
     "text": [
      "Median: 400.82132446979676\n",
      "Mean: 400.2204688976375\n",
      "Standard Deviation: 49.69693270661679\n"
     ]
    }
   ],
   "source": [
    "print(f'Median: {df[\"CO2 Emissions\"].median()}')\n",
    "print(f'Mean: {df[\"CO2 Emissions\"].mean()}')\n",
    "print(f'Standard Deviation: {df[\"CO2 Emissions\"].std()}')"
   ]
  },
  {
   "cell_type": "code",
   "execution_count": 54,
   "metadata": {},
   "outputs": [
    {
     "name": "stdout",
     "output_type": "stream",
     "text": [
      "Percent of values 1 standard deviation above the mean: 34.97%\n",
      "Percent of values 1 standard deviation below the mean: 33.53%\n"
     ]
    },
    {
     "name": "stderr",
     "output_type": "stream",
     "text": [
      "/var/folders/ky/73d3z09d6f595ffjdrf1_lxw0000gn/T/ipykernel_2671/929974172.py:2: UserWarning: Boolean Series key will be reindexed to match DataFrame index.\n",
      "  print(f'Percent of values 1 standard deviation above the mean: {df[df[\"CO2 Emissions\"] > df[\"CO2 Emissions\"].mean()][df[\"CO2 Emissions\"] <= (df[\"CO2 Emissions\"].mean() + df[\"CO2 Emissions\"].std())].shape[0] / df.shape[0] * 100}%')\n",
      "/var/folders/ky/73d3z09d6f595ffjdrf1_lxw0000gn/T/ipykernel_2671/929974172.py:3: UserWarning: Boolean Series key will be reindexed to match DataFrame index.\n",
      "  print(f'Percent of values 1 standard deviation below the mean: {df[df[\"CO2 Emissions\"] < df[\"CO2 Emissions\"].mean()][df[\"CO2 Emissions\"] >= (df[\"CO2 Emissions\"].mean() - df[\"CO2 Emissions\"].std())].shape[0] / df.shape[0] * 100}%')\n"
     ]
    }
   ],
   "source": [
    "# The distribution of CO2 emissions is fairly normal.\n",
    "print(f'Percent of values 1 standard deviation above the mean: {df[df[\"CO2 Emissions\"] > df[\"CO2 Emissions\"].mean()][df[\"CO2 Emissions\"] <= (df[\"CO2 Emissions\"].mean() + df[\"CO2 Emissions\"].std())].shape[0] / df.shape[0] * 100}%')\n",
    "print(f'Percent of values 1 standard deviation below the mean: {df[df[\"CO2 Emissions\"] < df[\"CO2 Emissions\"].mean()][df[\"CO2 Emissions\"] >= (df[\"CO2 Emissions\"].mean() - df[\"CO2 Emissions\"].std())].shape[0] / df.shape[0] * 100}%')"
   ]
  },
  {
   "cell_type": "code",
   "execution_count": 55,
   "metadata": {},
   "outputs": [
    {
     "name": "stdout",
     "output_type": "stream",
     "text": [
      "Median: 0.00233213304753395\n",
      "Mean: -0.0031516854837459044\n",
      "Standard Deviation: 0.9913486683740719\n"
     ]
    }
   ],
   "source": [
    "print(f'Median: {df[\"Sea Level Rise\"].median()}')\n",
    "print(f'Mean: {df[\"Sea Level Rise\"].mean()}')\n",
    "print(f'Standard Deviation: {df[\"Sea Level Rise\"].std()}')"
   ]
  },
  {
   "cell_type": "code",
   "execution_count": 56,
   "metadata": {},
   "outputs": [
    {
     "name": "stdout",
     "output_type": "stream",
     "text": [
      "Percent of values 1 standard deviation above the mean: 34.4%\n",
      "Percent of values 1 standard deviation below the mean: 33.54%\n"
     ]
    },
    {
     "name": "stderr",
     "output_type": "stream",
     "text": [
      "/var/folders/ky/73d3z09d6f595ffjdrf1_lxw0000gn/T/ipykernel_2671/3982330090.py:2: UserWarning: Boolean Series key will be reindexed to match DataFrame index.\n",
      "  print(f'Percent of values 1 standard deviation above the mean: {df[df[\"Sea Level Rise\"] > df[\"Sea Level Rise\"].mean()][df[\"Sea Level Rise\"] <= (df[\"Sea Level Rise\"].mean() + df[\"Sea Level Rise\"].std())].shape[0] / df.shape[0] * 100}%')\n",
      "/var/folders/ky/73d3z09d6f595ffjdrf1_lxw0000gn/T/ipykernel_2671/3982330090.py:3: UserWarning: Boolean Series key will be reindexed to match DataFrame index.\n",
      "  print(f'Percent of values 1 standard deviation below the mean: {df[df[\"Sea Level Rise\"] < df[\"Sea Level Rise\"].mean()][df[\"Sea Level Rise\"] >= (df[\"Sea Level Rise\"].mean() - df[\"Sea Level Rise\"].std())].shape[0] / df.shape[0] * 100}%')\n"
     ]
    }
   ],
   "source": [
    "# The distribution of sea level rise is fairly normal.\n",
    "print(f'Percent of values 1 standard deviation above the mean: {df[df[\"Sea Level Rise\"] > df[\"Sea Level Rise\"].mean()][df[\"Sea Level Rise\"] <= (df[\"Sea Level Rise\"].mean() + df[\"Sea Level Rise\"].std())].shape[0] / df.shape[0] * 100}%')\n",
    "print(f'Percent of values 1 standard deviation below the mean: {df[df[\"Sea Level Rise\"] < df[\"Sea Level Rise\"].mean()][df[\"Sea Level Rise\"] >= (df[\"Sea Level Rise\"].mean() - df[\"Sea Level Rise\"].std())].shape[0] / df.shape[0] * 100}%')"
   ]
  },
  {
   "cell_type": "code",
   "execution_count": 57,
   "metadata": {},
   "outputs": [
    {
     "name": "stdout",
     "output_type": "stream",
     "text": [
      "Median: 49.818967107350566\n",
      "Mean: 49.88120758239156\n",
      "Standard Deviation: 28.86241708886994\n"
     ]
    }
   ],
   "source": [
    "print(f'Median: {df[\"Precipitation\"].median()}')\n",
    "print(f'Mean: {df[\"Precipitation\"].mean()}')\n",
    "print(f'Standard Deviation: {df[\"Precipitation\"].std()}')"
   ]
  },
  {
   "cell_type": "code",
   "execution_count": 58,
   "metadata": {},
   "outputs": [
    {
     "name": "stdout",
     "output_type": "stream",
     "text": [
      "Percent of values 1 standard deviation above the mean: 29.15%\n",
      "Percent of values 1 standard deviation below the mean: 28.57%\n"
     ]
    },
    {
     "name": "stderr",
     "output_type": "stream",
     "text": [
      "/var/folders/ky/73d3z09d6f595ffjdrf1_lxw0000gn/T/ipykernel_2671/571570434.py:2: UserWarning: Boolean Series key will be reindexed to match DataFrame index.\n",
      "  print(f'Percent of values 1 standard deviation above the mean: {df[df[\"Precipitation\"] > df[\"Precipitation\"].mean()][df[\"Precipitation\"] <= (df[\"Precipitation\"].mean() + df[\"Precipitation\"].std())].shape[0] / df.shape[0] * 100}%')\n",
      "/var/folders/ky/73d3z09d6f595ffjdrf1_lxw0000gn/T/ipykernel_2671/571570434.py:3: UserWarning: Boolean Series key will be reindexed to match DataFrame index.\n",
      "  print(f'Percent of values 1 standard deviation below the mean: {df[df[\"Precipitation\"] < df[\"Precipitation\"].mean()][df[\"Precipitation\"] >= (df[\"Precipitation\"].mean() - df[\"Precipitation\"].std())].shape[0] / df.shape[0] * 100}%')\n"
     ]
    }
   ],
   "source": [
    "# The distribution of precipitation is somewhat normal, but not quite.\n",
    "print(f'Percent of values 1 standard deviation above the mean: {df[df[\"Precipitation\"] > df[\"Precipitation\"].mean()][df[\"Precipitation\"] <= (df[\"Precipitation\"].mean() + df[\"Precipitation\"].std())].shape[0] / df.shape[0] * 100}%')\n",
    "print(f'Percent of values 1 standard deviation below the mean: {df[df[\"Precipitation\"] < df[\"Precipitation\"].mean()][df[\"Precipitation\"] >= (df[\"Precipitation\"].mean() - df[\"Precipitation\"].std())].shape[0] / df.shape[0] * 100}%')"
   ]
  },
  {
   "cell_type": "code",
   "execution_count": 68,
   "metadata": {},
   "outputs": [
    {
     "data": {
      "text/plain": [
       "<Axes: >"
      ]
     },
     "execution_count": 68,
     "metadata": {},
     "output_type": "execute_result"
    },
    {
     "data": {
      "image/png": "[encoded data removed]",
      "text/plain": [
       "<Figure size 640x480 with 1 Axes>"
      ]
     },
     "metadata": {},
     "output_type": "display_data"
    }
   ],
   "source": [
    "# Precipitation is not normally distributed, but it is not skewed.\n",
    "df['Precipitation'].hist(density=True, bins=100)"
   ]
  },
  {
   "cell_type": "code",
   "execution_count": 69,
   "metadata": {},
   "outputs": [
    {
     "name": "stdout",
     "output_type": "stream",
     "text": [
      "Median: 0.49678412453807946\n",
      "Mean: 0.49771301928591655\n",
      "Standard Deviation: 0.289293200272605\n"
     ]
    }
   ],
   "source": [
    "print(f'Median: {df[\"Humidity\"].median()}')\n",
    "print(f'Mean: {df[\"Humidity\"].mean()}')\n",
    "print(f'Standard Deviation: {df[\"Humidity\"].std()}')"
   ]
  },
  {
   "cell_type": "code",
   "execution_count": 70,
   "metadata": {},
   "outputs": [
    {
     "name": "stdout",
     "output_type": "stream",
     "text": [
      "Percent of values 1 standard deviation above the mean: 28.57%\n",
      "Percent of values 1 standard deviation below the mean: 28.76%\n"
     ]
    },
    {
     "name": "stderr",
     "output_type": "stream",
     "text": [
      "/var/folders/ky/73d3z09d6f595ffjdrf1_lxw0000gn/T/ipykernel_2671/2937818012.py:2: UserWarning: Boolean Series key will be reindexed to match DataFrame index.\n",
      "  print(f'Percent of values 1 standard deviation above the mean: {df[df[\"Humidity\"] > df[\"Humidity\"].mean()][df[\"Humidity\"] <= (df[\"Humidity\"].mean() + df[\"Humidity\"].std())].shape[0] / df.shape[0] * 100}%')\n",
      "/var/folders/ky/73d3z09d6f595ffjdrf1_lxw0000gn/T/ipykernel_2671/2937818012.py:3: UserWarning: Boolean Series key will be reindexed to match DataFrame index.\n",
      "  print(f'Percent of values 1 standard deviation below the mean: {df[df[\"Humidity\"] < df[\"Humidity\"].mean()][df[\"Humidity\"] >= (df[\"Humidity\"].mean() - df[\"Humidity\"].std())].shape[0] / df.shape[0] * 100}%')\n"
     ]
    }
   ],
   "source": [
    "# The distribution of temperatures is somewhat normal, but not quite.\n",
    "print(f'Percent of values 1 standard deviation above the mean: {df[df[\"Humidity\"] > df[\"Humidity\"].mean()][df[\"Humidity\"] <= (df[\"Humidity\"].mean() + df[\"Humidity\"].std())].shape[0] / df.shape[0] * 100}%')\n",
    "print(f'Percent of values 1 standard deviation below the mean: {df[df[\"Humidity\"] < df[\"Humidity\"].mean()][df[\"Humidity\"] >= (df[\"Humidity\"].mean() - df[\"Humidity\"].std())].shape[0] / df.shape[0] * 100}%')"
   ]
  },
  {
   "cell_type": "code",
   "execution_count": 71,
   "metadata": {},
   "outputs": [
    {
     "data": {
      "text/plain": [
       "<Axes: >"
      ]
     },
     "execution_count": 71,
     "metadata": {},
     "output_type": "execute_result"
    },
    {
     "data": {
      "image/png": "[encoded data removed]",
      "text/plain": [
       "<Figure size 640x480 with 1 Axes>"
      ]
     },
     "metadata": {},
     "output_type": "display_data"
    }
   ],
   "source": [
    "# Humidity is not normally distributed, but it is not skewed.\n",
    "df['Humidity'].hist(density=True, bins=100)"
   ]
  },
  {
   "cell_type": "code",
   "execution_count": 72,
   "metadata": {},
   "outputs": [
    {
     "name": "stdout",
     "output_type": "stream",
     "text": [
      "Median: 24.910787458770095\n",
      "Mean: 25.082065534372457\n",
      "Standard Deviation: 14.466648038545445\n"
     ]
    }
   ],
   "source": [
    "print(f'Median: {df[\"Wind Speed\"].median()}')\n",
    "print(f'Mean: {df[\"Wind Speed\"].mean()}')\n",
    "print(f'Standard Deviation: {df[\"Wind Speed\"].std()}')"
   ]
  },
  {
   "cell_type": "code",
   "execution_count": 73,
   "metadata": {},
   "outputs": [
    {
     "name": "stdout",
     "output_type": "stream",
     "text": [
      "Percent of values 1 standard deviation above the mean: 28.249999999999996%\n",
      "Percent of values 1 standard deviation below the mean: 29.270000000000003%\n"
     ]
    },
    {
     "name": "stderr",
     "output_type": "stream",
     "text": [
      "/var/folders/ky/73d3z09d6f595ffjdrf1_lxw0000gn/T/ipykernel_2671/166109512.py:2: UserWarning: Boolean Series key will be reindexed to match DataFrame index.\n",
      "  print(f'Percent of values 1 standard deviation above the mean: {df[df[\"Wind Speed\"] > df[\"Wind Speed\"].mean()][df[\"Wind Speed\"] <= (df[\"Wind Speed\"].mean() + df[\"Wind Speed\"].std())].shape[0] / df.shape[0] * 100}%')\n",
      "/var/folders/ky/73d3z09d6f595ffjdrf1_lxw0000gn/T/ipykernel_2671/166109512.py:3: UserWarning: Boolean Series key will be reindexed to match DataFrame index.\n",
      "  print(f'Percent of values 1 standard deviation below the mean: {df[df[\"Wind Speed\"] < df[\"Wind Speed\"].mean()][df[\"Wind Speed\"] >= (df[\"Wind Speed\"].mean() - df[\"Wind Speed\"].std())].shape[0] / df.shape[0] * 100}%')\n"
     ]
    }
   ],
   "source": [
    "# The distribution of sea level rise is fairly normal.\n",
    "print(f'Percent of values 1 standard deviation above the mean: {df[df[\"Wind Speed\"] > df[\"Wind Speed\"].mean()][df[\"Wind Speed\"] <= (df[\"Wind Speed\"].mean() + df[\"Wind Speed\"].std())].shape[0] / df.shape[0] * 100}%')\n",
    "print(f'Percent of values 1 standard deviation below the mean: {df[df[\"Wind Speed\"] < df[\"Wind Speed\"].mean()][df[\"Wind Speed\"] >= (df[\"Wind Speed\"].mean() - df[\"Wind Speed\"].std())].shape[0] / df.shape[0] * 100}%')"
   ]
  },
  {
   "cell_type": "code",
   "execution_count": 75,
   "metadata": {},
   "outputs": [],
   "source": [
    "X = df.drop([\"Temperature\"], axis=1)\n",
    "y = df[\"Temperature\"]"
   ]
  },
  {
   "cell_type": "code",
   "execution_count": 76,
   "metadata": {},
   "outputs": [],
   "source": [
    "X_train, X_test, y_train, y_test = train_test_split(X, y, test_size=0.25, shuffle=True)"
   ]
  },
  {
   "cell_type": "code",
   "execution_count": 86,
   "metadata": {},
   "outputs": [],
   "source": [
    "columns_to_scale = ['CO2 Emissions', 'Sea Level Rise', 'Precipitation', 'Humidity', 'Wind Speed']\n",
    "\n",
    "preprocessor = ColumnTransformer(\n",
    "    transformers=[\n",
    "        ('scaler', MinMaxScaler(), columns_to_scale)\n",
    "    ]\n",
    ")"
   ]
  },
  {
   "cell_type": "code",
   "execution_count": 87,
   "metadata": {},
   "outputs": [],
   "source": [
    "X_train = preprocessor.fit_transform(X_train)\n",
    "X_test = preprocessor.transform(X_test)"
   ]
  },
  {
   "cell_type": "code",
   "execution_count": 88,
   "metadata": {},
   "outputs": [
    {
     "data": {
      "text/html": [
       "<style>#sk-container-id-1 {color: black;}#sk-container-id-1 pre{padding: 0;}#sk-container-id-1 div.sk-toggleable {background-color: white;}#sk-container-id-1 label.sk-toggleable__label {cursor: pointer;display: block;width: 100%;margin-bottom: 0;padding: 0.3em;box-sizing: border-box;text-align: center;}#sk-container-id-1 label.sk-toggleable__label-arrow:before {content: \"▸\";float: left;margin-right: 0.25em;color: #696969;}#sk-container-id-1 label.sk-toggleable__label-arrow:hover:before {color: black;}#sk-container-id-1 div.sk-estimator:hover label.sk-toggleable__label-arrow:before {color: black;}#sk-container-id-1 div.sk-toggleable__content {max-height: 0;max-width: 0;overflow: hidden;text-align: left;background-color: #f0f8ff;}#sk-container-id-1 div.sk-toggleable__content pre {margin: 0.2em;color: black;border-radius: 0.25em;background-color: #f0f8ff;}#sk-container-id-1 input.sk-toggleable__control:checked~div.sk-toggleable__content {max-height: 200px;max-width: 100%;overflow: auto;}#sk-container-id-1 input.sk-toggleable__control:checked~label.sk-toggleable__label-arrow:before {content: \"▾\";}#sk-container-id-1 div.sk-estimator input.sk-toggleable__control:checked~label.sk-toggleable__label {background-color: #d4ebff;}#sk-container-id-1 div.sk-label input.sk-toggleable__control:checked~label.sk-toggleable__label {background-color: #d4ebff;}#sk-container-id-1 input.sk-hidden--visually {border: 0;clip: rect(1px 1px 1px 1px);clip: rect(1px, 1px, 1px, 1px);height: 1px;margin: -1px;overflow: hidden;padding: 0;position: absolute;width: 1px;}#sk-container-id-1 div.sk-estimator {font-family: monospace;background-color: #f0f8ff;border: 1px dotted black;border-radius: 0.25em;box-sizing: border-box;margin-bottom: 0.5em;}#sk-container-id-1 div.sk-estimator:hover {background-color: #d4ebff;}#sk-container-id-1 div.sk-parallel-item::after {content: \"\";width: 100%;border-bottom: 1px solid gray;flex-grow: 1;}#sk-container-id-1 div.sk-label:hover label.sk-toggleable__label {background-color: #d4ebff;}#sk-container-id-1 div.sk-serial::before {content: \"\";position: absolute;border-left: 1px solid gray;box-sizing: border-box;top: 0;bottom: 0;left: 50%;z-index: 0;}#sk-container-id-1 div.sk-serial {display: flex;flex-direction: column;align-items: center;background-color: white;padding-right: 0.2em;padding-left: 0.2em;position: relative;}#sk-container-id-1 div.sk-item {position: relative;z-index: 1;}#sk-container-id-1 div.sk-parallel {display: flex;align-items: stretch;justify-content: center;background-color: white;position: relative;}#sk-container-id-1 div.sk-item::before, #sk-container-id-1 div.sk-parallel-item::before {content: \"\";position: absolute;border-left: 1px solid gray;box-sizing: border-box;top: 0;bottom: 0;left: 50%;z-index: -1;}#sk-container-id-1 div.sk-parallel-item {display: flex;flex-direction: column;z-index: 1;position: relative;background-color: white;}#sk-container-id-1 div.sk-parallel-item:first-child::after {align-self: flex-end;width: 50%;}#sk-container-id-1 div.sk-parallel-item:last-child::after {align-self: flex-start;width: 50%;}#sk-container-id-1 div.sk-parallel-item:only-child::after {width: 0;}#sk-container-id-1 div.sk-dashed-wrapped {border: 1px dashed gray;margin: 0 0.4em 0.5em 0.4em;box-sizing: border-box;padding-bottom: 0.4em;background-color: white;}#sk-container-id-1 div.sk-label label {font-family: monospace;font-weight: bold;display: inline-block;line-height: 1.2em;}#sk-container-id-1 div.sk-label-container {text-align: center;}#sk-container-id-1 div.sk-container {/* jupyter's `normalize.less` sets `[hidden] { display: none; }` but bootstrap.min.css set `[hidden] { display: none !important; }` so we also need the `!important` here to be able to override the default hidden behavior on the sphinx rendered scikit-learn.org. See: https://github.com/scikit-learn/scikit-learn/issues/21755 */display: inline-block !important;position: relative;}#sk-container-id-1 div.sk-text-repr-fallback {display: none;}</style><div id=\"sk-container-id-1\" class=\"sk-top-container\"><div class=\"sk-text-repr-fallback\"><pre>LinearRegression()</pre><b>In a Jupyter environment, please rerun this cell to show the HTML representation or trust the notebook. <br />On GitHub, the HTML representation is unable to render, please try loading this page with nbviewer.org.</b></div><div class=\"sk-container\" hidden><div class=\"sk-item\"><div class=\"sk-estimator sk-toggleable\"><input class=\"sk-toggleable__control sk-hidden--visually\" id=\"sk-estimator-id-1\" type=\"checkbox\" checked><label for=\"sk-estimator-id-1\" class=\"sk-toggleable__label sk-toggleable__label-arrow\">LinearRegression</label><div class=\"sk-toggleable__content\"><pre>LinearRegression()</pre></div></div></div></div></div>"
      ],
      "text/plain": [
       "LinearRegression()"
      ]
     },
     "execution_count": 88,
     "metadata": {},
     "output_type": "execute_result"
    }
   ],
   "source": [
    "lin_reg = LinearRegression()\n",
    "lin_reg.fit(X_train, y_train)"
   ]
  },
  {
   "cell_type": "code",
   "execution_count": 89,
   "metadata": {},
   "outputs": [],
   "source": [
    "y_pred_lin_reg = lin_reg.predict(X_test)"
   ]
  },
  {
   "cell_type": "code",
   "execution_count": 91,
   "metadata": {},
   "outputs": [
    {
     "name": "stdout",
     "output_type": "stream",
     "text": [
      "Mean Squared Error: 85.19121513056089\n",
      "R-Squared (R2): -0.0008899762017027246\n",
      "Mean Absolute Error: 7.431704379862189\n",
      "Root Mean Squared Error: 9.229908728181492\n"
     ]
    }
   ],
   "source": [
    "mse_lin_reg = mean_squared_error(y_test, y_pred_lin_reg)\n",
    "r2_lin_reg = r2_score(y_test, y_pred_lin_reg)\n",
    "mae_lin_reg = mean_absolute_error(y_test, y_pred_lin_reg)\n",
    "rmse_lin_reg = mean_squared_error(y_test, y_pred_lin_reg, squared=False)\n",
    "\n",
    "print(f'Mean Squared Error: {mse_lin_reg}')\n",
    "print(f'R-Squared (R2): {r2_lin_reg}')\n",
    "print(f'Mean Absolute Error: {mae_lin_reg}')\n",
    "print(f'Root Mean Squared Error: {rmse_lin_reg}')"
   ]
  }
 ],
 "metadata": {
  "kernelspec": {
   "display_name": "base",
   "language": "python",
   "name": "python3"
  },
  "language_info": {
   "codemirror_mode": {
    "name": "ipython",
    "version": 3
   },
   "file_extension": ".py",
   "mimetype": "text/x-python",
   "name": "python",
   "nbconvert_exporter": "python",
   "pygments_lexer": "ipython3",
   "version": "3.11.4"
  }
 },
 "nbformat": 4,
 "nbformat_minor": 2
}
